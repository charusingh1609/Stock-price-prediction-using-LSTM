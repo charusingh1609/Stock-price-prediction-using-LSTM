{
 "cells": [
  {
   "cell_type": "code",
   "execution_count": 20,
   "id": "6b755212-073c-4ee1-83a4-7ac4e22ab24a",
   "metadata": {},
   "outputs": [],
   "source": [
    "import numpy as np\n",
    "import pandas as pd\n",
    "import matplotlib.pyplot as plt\n",
    "from sklearn.preprocessing import MinMaxScaler\n",
    "from tensorflow.keras.models import Sequential\n",
    "from tensorflow.keras.layers import Dense,LSTM,Dropout"
   ]
  },
  {
   "cell_type": "code",
   "execution_count": 21,
   "id": "b333f132-aa4e-4a26-a94a-4898f1c06b12",
   "metadata": {},
   "outputs": [],
   "source": [
    "data= pd.read_csv(\"Downloads/Google_train_Data.csv\")"
   ]
  },
  {
   "cell_type": "code",
   "execution_count": 22,
   "id": "dd4d29df-42be-4f3f-958d-aede1e4ada8c",
   "metadata": {},
   "outputs": [
    {
     "data": {
      "text/html": [
       "<div>\n",
       "<style scoped>\n",
       "    .dataframe tbody tr th:only-of-type {\n",
       "        vertical-align: middle;\n",
       "    }\n",
       "\n",
       "    .dataframe tbody tr th {\n",
       "        vertical-align: top;\n",
       "    }\n",
       "\n",
       "    .dataframe thead th {\n",
       "        text-align: right;\n",
       "    }\n",
       "</style>\n",
       "<table border=\"1\" class=\"dataframe\">\n",
       "  <thead>\n",
       "    <tr style=\"text-align: right;\">\n",
       "      <th></th>\n",
       "      <th>Date</th>\n",
       "      <th>Open</th>\n",
       "      <th>High</th>\n",
       "      <th>Low</th>\n",
       "      <th>Close</th>\n",
       "      <th>Volume</th>\n",
       "    </tr>\n",
       "  </thead>\n",
       "  <tbody>\n",
       "    <tr>\n",
       "      <th>0</th>\n",
       "      <td>01-03-2012</td>\n",
       "      <td>325.25</td>\n",
       "      <td>332.83</td>\n",
       "      <td>324.97</td>\n",
       "      <td>663.59</td>\n",
       "      <td>73,80,500</td>\n",
       "    </tr>\n",
       "    <tr>\n",
       "      <th>1</th>\n",
       "      <td>01-04-2012</td>\n",
       "      <td>331.27</td>\n",
       "      <td>333.87</td>\n",
       "      <td>329.08</td>\n",
       "      <td>666.45</td>\n",
       "      <td>57,49,400</td>\n",
       "    </tr>\n",
       "    <tr>\n",
       "      <th>2</th>\n",
       "      <td>01-05-2012</td>\n",
       "      <td>329.83</td>\n",
       "      <td>330.75</td>\n",
       "      <td>326.89</td>\n",
       "      <td>657.21</td>\n",
       "      <td>65,90,300</td>\n",
       "    </tr>\n",
       "    <tr>\n",
       "      <th>3</th>\n",
       "      <td>01-06-2012</td>\n",
       "      <td>328.34</td>\n",
       "      <td>328.77</td>\n",
       "      <td>323.68</td>\n",
       "      <td>648.24</td>\n",
       "      <td>54,05,900</td>\n",
       "    </tr>\n",
       "    <tr>\n",
       "      <th>4</th>\n",
       "      <td>01-09-2012</td>\n",
       "      <td>322.04</td>\n",
       "      <td>322.29</td>\n",
       "      <td>309.46</td>\n",
       "      <td>620.76</td>\n",
       "      <td>1,16,88,800</td>\n",
       "    </tr>\n",
       "  </tbody>\n",
       "</table>\n",
       "</div>"
      ],
      "text/plain": [
       "         Date    Open    High     Low   Close       Volume\n",
       "0  01-03-2012  325.25  332.83  324.97  663.59    73,80,500\n",
       "1  01-04-2012  331.27  333.87  329.08  666.45    57,49,400\n",
       "2  01-05-2012  329.83  330.75  326.89  657.21    65,90,300\n",
       "3  01-06-2012  328.34  328.77  323.68  648.24    54,05,900\n",
       "4  01-09-2012  322.04  322.29  309.46  620.76  1,16,88,800"
      ]
     },
     "execution_count": 22,
     "metadata": {},
     "output_type": "execute_result"
    }
   ],
   "source": [
    "data.head()"
   ]
  },
  {
   "cell_type": "code",
   "execution_count": 23,
   "id": "b5699d35-874c-49cb-90a6-492fe230b111",
   "metadata": {},
   "outputs": [
    {
     "name": "stdout",
     "output_type": "stream",
     "text": [
      "<class 'pandas.core.frame.DataFrame'>\n",
      "RangeIndex: 1258 entries, 0 to 1257\n",
      "Data columns (total 6 columns):\n",
      " #   Column  Non-Null Count  Dtype  \n",
      "---  ------  --------------  -----  \n",
      " 0   Date    1258 non-null   object \n",
      " 1   Open    1258 non-null   float64\n",
      " 2   High    1258 non-null   float64\n",
      " 3   Low     1258 non-null   float64\n",
      " 4   Close   1258 non-null   object \n",
      " 5   Volume  1258 non-null   object \n",
      "dtypes: float64(3), object(3)\n",
      "memory usage: 59.1+ KB\n"
     ]
    }
   ],
   "source": [
    "data.info()"
   ]
  },
  {
   "cell_type": "code",
   "execution_count": 24,
   "id": "2cd84266-9713-4d96-895c-562c0887f206",
   "metadata": {},
   "outputs": [],
   "source": [
    "data[\"Close\"]=pd.to_numeric(data.Close,errors='coerce')\n",
    "data=data.dropna()\n",
    "trainData=data.iloc[:,4:5].values"
   ]
  },
  {
   "cell_type": "code",
   "execution_count": 25,
   "id": "949aada1-0b2a-4d6a-8e5b-3788f9425298",
   "metadata": {},
   "outputs": [
    {
     "name": "stdout",
     "output_type": "stream",
     "text": [
      "<class 'pandas.core.frame.DataFrame'>\n",
      "Int64Index: 1149 entries, 0 to 1257\n",
      "Data columns (total 6 columns):\n",
      " #   Column  Non-Null Count  Dtype  \n",
      "---  ------  --------------  -----  \n",
      " 0   Date    1149 non-null   object \n",
      " 1   Open    1149 non-null   float64\n",
      " 2   High    1149 non-null   float64\n",
      " 3   Low     1149 non-null   float64\n",
      " 4   Close   1149 non-null   float64\n",
      " 5   Volume  1149 non-null   object \n",
      "dtypes: float64(4), object(2)\n",
      "memory usage: 62.8+ KB\n"
     ]
    }
   ],
   "source": [
    "data.info()"
   ]
  },
  {
   "cell_type": "code",
   "execution_count": 26,
   "id": "cb2dcc92-9049-4cb6-a35f-fc4a0acdfb93",
   "metadata": {},
   "outputs": [
    {
     "data": {
      "text/plain": [
       "(1149, 1)"
      ]
     },
     "execution_count": 26,
     "metadata": {},
     "output_type": "execute_result"
    }
   ],
   "source": [
    "sc=MinMaxScaler(feature_range=(0,1))\n",
    "trainData= sc.fit_transform(trainData)\n",
    "trainData.shape"
   ]
  },
  {
   "cell_type": "code",
   "execution_count": 27,
   "id": "e66b2699-e610-4030-9d3c-0d602ad7700d",
   "metadata": {},
   "outputs": [],
   "source": [
    "    X_train =[]\n",
    "    y_train =[]\n",
    "    \n",
    "    for i in range (60,1149):  #60 :timestep // 11491: Length of data\n",
    "        X_train.append(trainData[i-60:i,0])\n",
    "        y_train.append(trainData[i,0])\n",
    "        \n",
    "    X_train,y_train = np.array(X_train),np.array(y_train)   "
   ]
  },
  {
   "cell_type": "code",
   "execution_count": 28,
   "id": "18aa2de2-dc1d-4606-9a5f-13cb2408551c",
   "metadata": {},
   "outputs": [
    {
     "data": {
      "text/plain": [
       "(1089, 60, 1)"
      ]
     },
     "execution_count": 28,
     "metadata": {},
     "output_type": "execute_result"
    }
   ],
   "source": [
    "X_train=np.reshape(X_train,(X_train.shape[0],X_train.shape[1],1)) #adding the both side axis\n",
    "X_train.shape"
   ]
  },
  {
   "cell_type": "code",
   "execution_count": 29,
   "id": "f8d07433-9ed4-4ecc-bc8a-727b7406ef27",
   "metadata": {},
   "outputs": [],
   "source": [
    "model= Sequential()\n",
    "\n",
    "model.add(LSTM(units=100, return_sequences = True, input_shape =(X_train.shape[1],1)))\n",
    "model.add(Dropout(0.2))\n",
    "\n",
    "\n",
    "model.add(LSTM(units=100, return_sequences = True))\n",
    "model.add(Dropout(0.2))\n",
    "\n",
    "\n",
    "model.add(LSTM(units=100, return_sequences = True))\n",
    "model.add(Dropout(0.2))\n",
    "\n",
    "#here was the error\n",
    "model.add(LSTM(units=100, return_sequences = False))\n",
    "model.add(Dropout(0.2))\n",
    "\n",
    "\n",
    "model.add(Dense(units=1))\n",
    "model.compile(optimizer='adam' , loss=\"mean_squared_error\")"
   ]
  },
  {
   "cell_type": "code",
   "execution_count": 30,
   "id": "e404facf-8a7a-4b18-aa77-a60210b497d7",
   "metadata": {},
   "outputs": [
    {
     "name": "stdout",
     "output_type": "stream",
     "text": [
      "Epoch 1/20\n",
      "35/35 - 3s - loss: 0.0343\n",
      "Epoch 2/20\n",
      "35/35 - 4s - loss: 0.0102\n",
      "Epoch 3/20\n",
      "35/35 - 4s - loss: 0.0095\n",
      "Epoch 4/20\n",
      "35/35 - 3s - loss: 0.0107\n",
      "Epoch 5/20\n",
      "35/35 - 4s - loss: 0.0084\n",
      "Epoch 6/20\n",
      "35/35 - 4s - loss: 0.0088\n",
      "Epoch 7/20\n",
      "35/35 - 4s - loss: 0.0069\n",
      "Epoch 8/20\n",
      "35/35 - 4s - loss: 0.0072\n",
      "Epoch 9/20\n",
      "35/35 - 4s - loss: 0.0064\n",
      "Epoch 10/20\n",
      "35/35 - 4s - loss: 0.0058\n",
      "Epoch 11/20\n",
      "35/35 - 4s - loss: 0.0061\n",
      "Epoch 12/20\n",
      "35/35 - 4s - loss: 0.0056\n",
      "Epoch 13/20\n",
      "35/35 - 4s - loss: 0.0068\n",
      "Epoch 14/20\n",
      "35/35 - 4s - loss: 0.0064\n",
      "Epoch 15/20\n",
      "35/35 - 4s - loss: 0.0051\n",
      "Epoch 16/20\n",
      "35/35 - 4s - loss: 0.0053\n",
      "Epoch 17/20\n",
      "35/35 - 4s - loss: 0.0051\n",
      "Epoch 18/20\n",
      "35/35 - 4s - loss: 0.0051\n",
      "Epoch 19/20\n",
      "35/35 - 4s - loss: 0.0047\n",
      "Epoch 20/20\n",
      "35/35 - 4s - loss: 0.0061\n"
     ]
    }
   ],
   "source": [
    "hist = model.fit(X_train, y_train, epochs = 20, batch_size = 32, verbose=2)"
   ]
  },
  {
   "cell_type": "code",
   "execution_count": 31,
   "id": "45c804de-6c83-491d-b893-f59bcdfe00c4",
   "metadata": {},
   "outputs": [
    {
     "data": {
      "image/png": "[encoded data removed]",
      "text/plain": [
       "<Figure size 432x288 with 1 Axes>"
      ]
     },
     "metadata": {
      "needs_background": "light"
     },
     "output_type": "display_data"
    }
   ],
   "source": [
    "plt.plot(hist.history['loss'])\n",
    "plt.title('Training model loss')\n",
    "plt.ylabel('loss')\n",
    "plt.xlabel('epoch')\n",
    "plt.legend(['train'], loc='upper left')\n",
    "plt.show()"
   ]
  },
  {
   "cell_type": "code",
   "execution_count": 32,
   "id": "6731dde4-c3b3-4df7-993e-66468b952510",
   "metadata": {},
   "outputs": [],
   "source": [
    "testData= pd.read_csv(\"Downloads/Google_test_Data.csv\")\n"
   ]
  },
  {
   "cell_type": "code",
   "execution_count": 33,
   "id": "747912fa-5c39-4179-a4dd-80883f64bb06",
   "metadata": {},
   "outputs": [
    {
     "data": {
      "text/html": [
       "<div>\n",
       "<style scoped>\n",
       "    .dataframe tbody tr th:only-of-type {\n",
       "        vertical-align: middle;\n",
       "    }\n",
       "\n",
       "    .dataframe tbody tr th {\n",
       "        vertical-align: top;\n",
       "    }\n",
       "\n",
       "    .dataframe thead th {\n",
       "        text-align: right;\n",
       "    }\n",
       "</style>\n",
       "<table border=\"1\" class=\"dataframe\">\n",
       "  <thead>\n",
       "    <tr style=\"text-align: right;\">\n",
       "      <th></th>\n",
       "      <th>Date</th>\n",
       "      <th>Open</th>\n",
       "      <th>High</th>\n",
       "      <th>Low</th>\n",
       "      <th>Close</th>\n",
       "      <th>Adj Close</th>\n",
       "      <th>Volume</th>\n",
       "    </tr>\n",
       "  </thead>\n",
       "  <tbody>\n",
       "    <tr>\n",
       "      <th>0</th>\n",
       "      <td>13-08-2018</td>\n",
       "      <td>1236.979980</td>\n",
       "      <td>1249.272949</td>\n",
       "      <td>1233.640991</td>\n",
       "      <td>1235.010010</td>\n",
       "      <td>1235.010010</td>\n",
       "      <td>997300</td>\n",
       "    </tr>\n",
       "    <tr>\n",
       "      <th>1</th>\n",
       "      <td>14-08-2018</td>\n",
       "      <td>1235.189941</td>\n",
       "      <td>1245.869995</td>\n",
       "      <td>1225.109985</td>\n",
       "      <td>1242.099976</td>\n",
       "      <td>1242.099976</td>\n",
       "      <td>1348100</td>\n",
       "    </tr>\n",
       "    <tr>\n",
       "      <th>2</th>\n",
       "      <td>15-08-2018</td>\n",
       "      <td>1229.260010</td>\n",
       "      <td>1235.239990</td>\n",
       "      <td>1209.510010</td>\n",
       "      <td>1214.380005</td>\n",
       "      <td>1214.380005</td>\n",
       "      <td>1828800</td>\n",
       "    </tr>\n",
       "    <tr>\n",
       "      <th>3</th>\n",
       "      <td>16-08-2018</td>\n",
       "      <td>1224.729980</td>\n",
       "      <td>1226.000000</td>\n",
       "      <td>1202.550049</td>\n",
       "      <td>1206.489990</td>\n",
       "      <td>1206.489990</td>\n",
       "      <td>1343200</td>\n",
       "    </tr>\n",
       "    <tr>\n",
       "      <th>4</th>\n",
       "      <td>17-08-2018</td>\n",
       "      <td>1202.030029</td>\n",
       "      <td>1209.020020</td>\n",
       "      <td>1188.239990</td>\n",
       "      <td>1200.959961</td>\n",
       "      <td>1200.959961</td>\n",
       "      <td>1389600</td>\n",
       "    </tr>\n",
       "  </tbody>\n",
       "</table>\n",
       "</div>"
      ],
      "text/plain": [
       "         Date         Open         High          Low        Close  \\\n",
       "0  13-08-2018  1236.979980  1249.272949  1233.640991  1235.010010   \n",
       "1  14-08-2018  1235.189941  1245.869995  1225.109985  1242.099976   \n",
       "2  15-08-2018  1229.260010  1235.239990  1209.510010  1214.380005   \n",
       "3  16-08-2018  1224.729980  1226.000000  1202.550049  1206.489990   \n",
       "4  17-08-2018  1202.030029  1209.020020  1188.239990  1200.959961   \n",
       "\n",
       "     Adj Close   Volume  \n",
       "0  1235.010010   997300  \n",
       "1  1242.099976  1348100  \n",
       "2  1214.380005  1828800  \n",
       "3  1206.489990  1343200  \n",
       "4  1200.959961  1389600  "
      ]
     },
     "execution_count": 33,
     "metadata": {},
     "output_type": "execute_result"
    }
   ],
   "source": [
    "testData.head()"
   ]
  },
  {
   "cell_type": "code",
   "execution_count": 34,
   "id": "9b548d64-fb15-4efa-ae51-8503d48f469b",
   "metadata": {},
   "outputs": [],
   "source": [
    "testData[\"Close\"]=pd.to_numeric(testData.Close,errors='coerce') \n",
    "\n",
    "testData = testData.dropna() \n",
    "testData = testData.iloc[:,4:5] \n",
    "\n",
    "\n",
    "\n",
    "y_test = testData.iloc[60:,0:].values \n",
    "\n",
    "\n",
    "inputClosing = testData.iloc[:,0:].values \n",
    "inputClosing_scaled = sc.transform(inputClosing)"
   ]
  },
  {
   "cell_type": "code",
   "execution_count": 35,
   "id": "808029cf-8afa-4921-98c8-e18f4dc2e15f",
   "metadata": {},
   "outputs": [
    {
     "data": {
      "text/plain": [
       "(192, 60, 1)"
      ]
     },
     "execution_count": 35,
     "metadata": {},
     "output_type": "execute_result"
    }
   ],
   "source": [
    "X_test = []\n",
    "length = len(testData)\n",
    "timestep = 60\n",
    "for i in range(timestep,length): \n",
    "    X_test.append(inputClosing_scaled[i-timestep:i,0])\n",
    "    \n",
    "    \n",
    "X_test = np.array(X_test)\n",
    "X_test = np.reshape(X_test,(X_test.shape[0],X_test.shape[1],1))\n",
    "X_test.shape"
   ]
  },
  {
   "cell_type": "code",
   "execution_count": 40,
   "id": "7f49f918-bfdc-4fc9-83a8-c27fa158830a",
   "metadata": {},
   "outputs": [],
   "source": [
    "#y_pred = model.predict(X_test)\n",
    "y_pred = model.predict(X_test)"
   ]
  },
  {
   "cell_type": "code",
   "execution_count": 42,
   "id": "bc6650f9-1427-45c4-b718-f33696286595",
   "metadata": {},
   "outputs": [],
   "source": [
    "predicted_price = sc.inverse_transform(y_pred)"
   ]
  },
  {
   "cell_type": "code",
   "execution_count": 45,
   "id": "c637f758-def8-4b67-8e34-e776fb16af5e",
   "metadata": {},
   "outputs": [
    {
     "data": {
      "text/plain": [
       "(192, 1)"
      ]
     },
     "execution_count": 45,
     "metadata": {},
     "output_type": "execute_result"
    }
   ],
   "source": [
    "predicated_price.shape"
   ]
  },
  {
   "cell_type": "code",
   "execution_count": 44,
   "id": "c6be9f0d-4ad9-4049-b13c-024fafa0acc2",
   "metadata": {},
   "outputs": [
    {
     "name": "stdout",
     "output_type": "stream",
     "text": [
      "(192, 1)\n"
     ]
    }
   ],
   "source": [
    "print(y_test.shape)"
   ]
  },
  {
   "cell_type": "code",
   "execution_count": 43,
   "id": "a6781f3b-69ed-4ccb-9c2d-6a9c18a2f08f",
   "metadata": {},
   "outputs": [
    {
     "data": {
      "image/png": "[encoded data removed]",
      "text/plain": [
       "<Figure size 432x288 with 1 Axes>"
      ]
     },
     "metadata": {
      "needs_background": "light"
     },
     "output_type": "display_data"
    }
   ],
   "source": [
    "plt.plot(y_test, color= 'red', label= 'Actual Stock Price')\n",
    "plt.plot(predicated_price, color='green', label='Predicated stock price')\n",
    "plt.title('Google stock price prediction')\n",
    "plt.xlabel('Time')\n",
    "plt.ylabel('Stock Price')\n",
    "plt.legend()\n",
    "plt.show()"
   ]
  },
  {
   "cell_type": "code",
   "execution_count": null,
   "id": "f5412c50-7333-4aee-8a98-ed9faec92b92",
   "metadata": {},
   "outputs": [],
   "source": []
  }
 ],
 "metadata": {
  "kernelspec": {
   "display_name": "Python 3",
   "language": "python",
   "name": "python3"
  },
  "language_info": {
   "codemirror_mode": {
    "name": "ipython",
    "version": 3
   },
   "file_extension": ".py",
   "mimetype": "text/x-python",
   "name": "python",
   "nbconvert_exporter": "python",
   "pygments_lexer": "ipython3",
   "version": "3.8.8"
  }
 },
 "nbformat": 4,
 "nbformat_minor": 5
}
